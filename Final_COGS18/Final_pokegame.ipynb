{
 "cells": [
  {
   "cell_type": "markdown",
   "metadata": {},
   "source": [
    "#  Pokequiz\n",
    "My project is a quiz game that is designed to ask the user 16 questions about 16 different pokemon each of different type. The users goal is to type in the correct type with the correct pokemon. At the end of the 16 question there is a chatbot that asks how the user is doing and helps the user with learning about pokemon types by showing the complete list. There are 151 pokemon that are in this project. They are the first 151 pokemon in the browser. \n",
    "\n",
    "The chatbot is specific in what must be typed in and there are some code taken from A3 and also an online source too. How the user learns about pokemon and their types is by importing a webbrowser to open the pokemon website. \n",
    "\n",
    "There is also a hidden egg in the game! The user must correctly identify the legendary pokemon and type in 'legendary,' read the questions closely because one is different from the others! (Something wil open, so do not be alarmed!)\n",
    "\n",
    "Have fun with this pokequiz as it is meant for fun! "
   ]
  },
  {
   "cell_type": "markdown",
   "metadata": {},
   "source": [
    "# Extra directions\n",
    "All 16 questions in the quiz must be answered before moving on. Type in one of the choices that are given.\n",
    "\n",
    "To exit the chatbot, type in 'quit' and type in one of the choices that are given as well."
   ]
  },
  {
   "cell_type": "markdown",
   "metadata": {},
   "source": [
    "# Import\n",
    "Import needed modules over"
   ]
  },
  {
   "cell_type": "code",
   "execution_count": null,
   "metadata": {},
   "outputs": [],
   "source": [
    "from my_module.pokegame_functions import*\n",
    "from my_module.pokegame_test_functions import*"
   ]
  },
  {
   "cell_type": "code",
   "execution_count": null,
   "metadata": {},
   "outputs": [],
   "source": [
    "run_quiz(correct_a)"
   ]
  },
  {
   "cell_type": "code",
   "execution_count": null,
   "metadata": {},
   "outputs": [],
   "source": [
    "talk_time()"
   ]
  },
  {
   "cell_type": "code",
   "execution_count": null,
   "metadata": {},
   "outputs": [],
   "source": [
    "test_everything()"
   ]
  }
 ],
 "metadata": {
  "kernelspec": {
   "display_name": "Python 3",
   "language": "python",
   "name": "python3"
  },
  "language_info": {
   "codemirror_mode": {
    "name": "ipython",
    "version": 3
   },
   "file_extension": ".py",
   "mimetype": "text/x-python",
   "name": "python",
   "nbconvert_exporter": "python",
   "pygments_lexer": "ipython3",
   "version": "3.7.3"
  }
 },
 "nbformat": 4,
 "nbformat_minor": 2
}
